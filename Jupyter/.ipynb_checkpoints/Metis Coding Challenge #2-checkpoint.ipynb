{
 "cells": [
  {
   "cell_type": "markdown",
   "metadata": {},
   "source": [
    "# Metis Coding Challenge 2"
   ]
  },
  {
   "cell_type": "markdown",
   "metadata": {},
   "source": [
    "I chose to use pandas as the primary method to extract and analyze the speed camera violation data from the city of Chicago. I then chose to display the data using a combination of pandas, seaborn, and matplotlib."
   ]
  },
  {
   "cell_type": "code",
   "execution_count": 1,
   "metadata": {
    "collapsed": true
   },
   "outputs": [],
   "source": [
    "import pandas as pd\n",
    "import matplotlib.pyplot as plt\n",
    "import seaborn as sns\n",
    "from datetime import datetime\n",
    "%matplotlib inline"
   ]
  },
  {
   "cell_type": "code",
   "execution_count": 2,
   "metadata": {
    "collapsed": false
   },
   "outputs": [
    {
     "name": "stdout",
     "output_type": "stream",
     "text": [
      "           ADDRESS CAMERA ID VIOLATION DATE  VIOLATIONS  X COORDINATE  \\\n",
      "0   7738 S WESTERN    CHI065     07/08/2014          65           NaN   \n",
      "1  1111 N HUMBOLDT    CHI010     07/16/2014          56           NaN   \n",
      "2   5520 S WESTERN    CHI069     07/08/2014          10           NaN   \n",
      "3  1111 N HUMBOLDT    CHI010     07/26/2014         101           NaN   \n",
      "4  1111 N HUMBOLDT    CHI010     07/27/2014          92           NaN   \n",
      "\n",
      "   Y COORDINATE  LATITUDE  LONGITUDE LOCATION  \n",
      "0           NaN       NaN        NaN      NaN  \n",
      "1           NaN       NaN        NaN      NaN  \n",
      "2           NaN       NaN        NaN      NaN  \n",
      "3           NaN       NaN        NaN      NaN  \n",
      "4           NaN       NaN        NaN      NaN  \n"
     ]
    }
   ],
   "source": [
    "# First, I downloaded a CSV file and chose to read it using pandas csv reader\n",
    "sc_violations = pd.read_csv('Speed_Camera_Violations.csv')\n",
    "\n",
    "# After reviewing the first few rows, we need to mindful that not all columns are populated for every entry in the data.\n",
    "# This is noted just in case we need to clean the data\n",
    "print (sc_violations.head())"
   ]
  },
  {
   "cell_type": "markdown",
   "metadata": {},
   "source": [
    "## 1. What is the average number of citations issued per camera, per day?\n",
    "\n",
    "Answer: See \"print\" and also \"to_csv\" line"
   ]
  },
  {
   "cell_type": "code",
   "execution_count": 12,
   "metadata": {
    "collapsed": false
   },
   "outputs": [
    {
     "name": "stdout",
     "output_type": "stream",
     "text": [
      "                          AVG VIOLATIONS\n",
      "CAMERA ID VIOLATION DATE                \n",
      "CHI003    01/01/2015                 123\n",
      "          01/01/2016                 138\n",
      "          01/02/2015                 118\n",
      "          01/02/2016                 145\n",
      "          01/03/2015                  83\n",
      "          01/03/2016                 147\n",
      "          01/04/2015                  48\n",
      "          01/04/2016                  94\n",
      "          01/05/2015                  38\n",
      "          01/05/2016                 108\n",
      "          01/06/2015                  39\n",
      "          01/06/2016                  87\n",
      "          01/07/2015                  60\n",
      "          01/07/2016                  98\n",
      "          01/08/2015                  32\n",
      "          01/08/2016                  81\n",
      "          01/09/2015                  59\n",
      "          01/09/2016                  72\n",
      "          01/10/2015                  82\n",
      "          01/10/2016                 162\n",
      "          01/11/2015                 101\n",
      "          01/11/2016                  68\n",
      "          01/12/2015                  51\n",
      "          01/12/2016                  54\n",
      "          01/13/2015                  65\n",
      "          01/13/2016                  90\n",
      "          01/14/2015                  71\n",
      "          01/14/2016                  88\n",
      "          01/15/2015                  67\n",
      "          01/15/2016                  79\n",
      "...                                  ...\n",
      "CHI172    11/30/2015                   8\n",
      "          12/01/2014                  15\n",
      "          12/01/2015                  10\n",
      "          12/02/2014                  19\n",
      "          12/02/2015                   4\n",
      "          12/03/2014                  20\n",
      "          12/03/2015                  15\n",
      "          12/04/2014                  21\n",
      "          12/04/2015                  10\n",
      "          12/05/2014                  17\n",
      "          12/07/2015                   8\n",
      "          12/08/2014                   6\n",
      "          12/08/2015                   9\n",
      "          12/09/2014                   4\n",
      "          12/09/2015                   6\n",
      "          12/10/2014                  20\n",
      "          12/10/2015                  17\n",
      "          12/11/2014                  17\n",
      "          12/11/2015                  16\n",
      "          12/12/2014                  23\n",
      "          12/14/2015                  10\n",
      "          12/15/2014                  23\n",
      "          12/15/2015                   9\n",
      "          12/16/2014                  16\n",
      "          12/16/2015                   8\n",
      "          12/17/2014                  24\n",
      "          12/17/2015                   8\n",
      "          12/18/2014                  19\n",
      "          12/18/2015                   3\n",
      "          12/19/2014                  15\n",
      "\n",
      "[68348 rows x 1 columns]\n"
     ]
    }
   ],
   "source": [
    "#How many unique cameras are there?\n",
    "num_of_unique_cameras = sc_violations['CAMERA ID'].value_counts()\n",
    "\n",
    "#Function to determine average violations per camera id/violation date\n",
    "data = sc_violations.groupby(['CAMERA ID','VIOLATION DATE'])['VIOLATIONS'].mean()\n",
    "\n",
    "#Placing the series data into a dataframe\n",
    "viol_cameraid_date = pd.DataFrame(data=data)\n",
    "\n",
    "#Renaming the column to reflect an average\n",
    "viol_cameraid_date.rename(columns={'VIOLATIONS':'AVG VIOLATIONS'}, inplace=True)\n",
    "print (viol_cameraid_date)\n",
    "\n",
    "#Since the results are so lengthy, it can be sent to a CSV file for further viewing/analysis\n",
    "viol_cameraid_date.to_csv('CITATIONS_PER_CAMERA_PER_DAY', sep='\\t')\n"
   ]
  },
  {
   "cell_type": "markdown",
   "metadata": {},
   "source": [
    "## 2. On which day of the week are the most citations issued?\n",
    "\n",
    "Assumption: That the citation date was on the same date as the 'Violation Date'. However, based on the column description on the website, the citation date may be issued on a different date.\n",
    "\n",
    "Answer: Friday with a total of 347084 citations over the collection period"
   ]
  },
  {
   "cell_type": "code",
   "execution_count": 13,
   "metadata": {
    "collapsed": false
   },
   "outputs": [
    {
     "name": "stdout",
     "output_type": "stream",
     "text": [
      "       Day Counts  Day\n",
      "Day #                 \n",
      "1          280122  Sun\n",
      "2          309987  Mon\n",
      "3          325683  Tue\n",
      "4          328517  Wed\n",
      "5          339196  Thu\n",
      "6          347084  Fri\n",
      "7          292115  Sat\n"
     ]
    },
    {
     "data": {
      "image/png": "[encoded data removed]",
      "text/plain": [
       "<matplotlib.figure.Figure at 0x11b378898>"
      ]
     },
     "metadata": {},
     "output_type": "display_data"
    }
   ],
   "source": [
    "#Choosing to use to_datetime to convert the dates in csv file\n",
    "viol_dates = pd.to_datetime(sc_violations['VIOLATION DATE'], format=\"%m/%d/%Y\")\n",
    "\n",
    "#Now we can just strip the day from the series and make a 'VIOL DAY OF THE WEEK' column to sort by\n",
    "sc_violations['VIOL DAY OF THE WEEK'] = viol_dates.apply(lambda x: datetime.strftime(x, '%a'))\n",
    "\n",
    "#Function to determine sum of violations per day of the week\n",
    "viol_date_counts = sc_violations.groupby(['VIOL DAY OF THE WEEK'])['VIOLATIONS'].sum()\n",
    "\n",
    "#Convert series to dataframe\n",
    "new_df = viol_date_counts.to_frame(name='Day Counts')\n",
    "\n",
    "convert_days = {\n",
    "    'Sun': 1,\n",
    "    'Mon': 2,\n",
    "    'Tue': 3,\n",
    "    'Wed': 4,\n",
    "    'Thu': 5,\n",
    "    'Fri': 6,\n",
    "    'Sat': 7}\n",
    "\n",
    "#Reordering the entries in the dataframe to follow days of the week\n",
    "new_df['Day #'] = new_df.index\n",
    "new_df['Day'] = new_df.index\n",
    "new_df['Day #'] = new_df['Day #'].map(convert_days)\n",
    "new_df.index = new_df['Day #']\n",
    "new_df.drop({'Day #'}, axis = 1, inplace=True)\n",
    "new_df.sort_index(ascending=True,inplace=True)\n",
    "\n",
    "#Seaborn barplot of the data\n",
    "print(new_df)\n",
    "sns.barplot(x=\"Day\", y=\"Day Counts\", data=new_df)\n",
    "plt.title('Violation Day of the Week Counts')\n",
    "plt.xlabel('Day of the Week')\n",
    "plt.ylabel('Day Counts')\n",
    "plt.xticks(rotation='vertical')\n",
    "plt.show()"
   ]
  },
  {
   "cell_type": "markdown",
   "metadata": {},
   "source": [
    "# 3. Have the number of active cameras increased or decreased over the collection period?\n",
    "\n",
    "Answer: See Year breakdown and also Month/Year breakdown\n",
    "\n",
    "Analysis: At first glance, the year breakdown shows that the # of active cameras within the year rises between 2014-2016. However, looking at it from a month/year perspective shows us that there were times when there were huge drops in opearting cameras. In genrral, the number of active cameras has increased.Further analysis would need to be done as to explain the patterns (Example : Check maintenance schedules, natural disasters, decomissioning of cameras, etc.)"
   ]
  },
  {
   "cell_type": "code",
   "execution_count": 14,
   "metadata": {
    "collapsed": false
   },
   "outputs": [
    {
     "name": "stdout",
     "output_type": "stream",
     "text": [
      "           # of Operating Cameras VIOL YEAR\n",
      "VIOL YEAR                                  \n",
      "2014                          143      2014\n",
      "2015                          150      2015\n",
      "2016                          150      2016\n"
     ]
    },
    {
     "data": {
      "image/png": "[encoded data removed]",
      "text/plain": [
       "<matplotlib.figure.Figure at 0x11b085fd0>"
      ]
     },
     "metadata": {},
     "output_type": "display_data"
    },
    {
     "name": "stdout",
     "output_type": "stream",
     "text": [
      "            # of Operating Cameras per Month/Year VIOL MONTH YEAR\n",
      "2014-07-14                                    101         07/2014\n",
      "2014-08-14                                     75         08/2014\n",
      "2014-09-14                                    125         09/2014\n",
      "2014-10-14                                    131         10/2014\n",
      "2014-11-14                                    143         11/2014\n",
      "2014-12-14                                    143         12/2014\n",
      "2015-01-14                                    143         01/2015\n",
      "2015-02-14                                    146         02/2015\n",
      "2015-03-14                                    145         03/2015\n",
      "2015-04-14                                    146         04/2015\n",
      "2015-05-14                                    146         05/2015\n",
      "2015-06-14                                    146         06/2015\n",
      "2015-07-14                                    100         07/2015\n",
      "2015-08-14                                     96         08/2015\n",
      "2015-09-14                                    143         09/2015\n",
      "2015-10-14                                    144         10/2015\n",
      "2015-11-14                                    143         11/2015\n",
      "2015-12-14                                    147         12/2015\n",
      "2016-01-14                                    147         01/2016\n",
      "2016-02-14                                    149         02/2016\n",
      "2016-03-14                                    149         03/2016\n",
      "2016-04-14                                    149         04/2016\n"
     ]
    },
    {
     "data": {
      "image/png": "[encoded data removed]",
      "text/plain": [
       "<matplotlib.figure.Figure at 0x117dacdd8>"
      ]
     },
     "metadata": {},
     "output_type": "display_data"
    }
   ],
   "source": [
    "#Choosing to use to_datetime to cover all formats in csv file\n",
    "viol_dates = pd.to_datetime(sc_violations['VIOLATION DATE'], format=\"%m/%d/%Y\")\n",
    "\n",
    "#Now we can just strip the year from the series and make a 'YEAR OF VIOLATION' column to sort by\n",
    "sc_violations['VIOL YEAR'] = viol_dates.apply(lambda x: datetime.strftime(x, '%Y'))\n",
    "\n",
    "#Function to determine number of active cameras per year\n",
    "viol_active_cameras = sc_violations.groupby(['VIOL YEAR'])['CAMERA ID'].nunique()\n",
    "\n",
    "#Convert series to dataframe and assign column name\n",
    "camera_df = viol_active_cameras.to_frame(name='# of Operating Cameras')\n",
    "camera_df['VIOL YEAR'] = camera_df.index\n",
    "\n",
    "print(camera_df)\n",
    "\n",
    "#Plotting # of opearting cameras over the year\n",
    "camera_df.plot(figsize=(6,5))\n",
    "plt.title('# of Operating Camera''s Per Year')\n",
    "plt.xlabel('Year')\n",
    "plt.ylabel('# of Cameras')\n",
    "plt.ylim(100,160)\n",
    "plt.show()\n",
    "\n",
    "# Same analysis but breaking it down to a Month/Year level\n",
    "sc_violations['VIOL MONTH YEAR'] = viol_dates.apply(lambda x: datetime.strftime(x, '%m/%Y'))\n",
    "viol_active_cameras_my = sc_violations.groupby(['VIOL MONTH YEAR'])['CAMERA ID'].nunique()\n",
    "\n",
    "camera_df_my = viol_active_cameras_my.to_frame(name='# of Operating Cameras per Month/Year')\n",
    "camera_df_my['VIOL MONTH YEAR'] = camera_df_my.index\n",
    "\n",
    "camera_df_my.index = camera_df_my.index.to_datetime()\n",
    "\n",
    "camera_df_my.sort_index(ascending=True, inplace=True)\n",
    "\n",
    "print(camera_df_my)\n",
    "\n",
    "camera_df_my.plot(figsize=(6,5))\n",
    "plt.title('# of Operating Camera''s Per Month/Year')\n",
    "plt.xlabel('Month/Year')\n",
    "plt.ylabel('# of Cameras')\n",
    "plt.legend(loc='lower right')\n",
    "plt.show()"
   ]
  },
  {
   "cell_type": "code",
   "execution_count": null,
   "metadata": {
    "collapsed": true
   },
   "outputs": [],
   "source": []
  }
 ],
 "metadata": {
  "kernelspec": {
   "display_name": "Python 3",
   "language": "python",
   "name": "python3"
  },
  "language_info": {
   "codemirror_mode": {
    "name": "ipython",
    "version": 3
   },
   "file_extension": ".py",
   "mimetype": "text/x-python",
   "name": "python",
   "nbconvert_exporter": "python",
   "pygments_lexer": "ipython3",
   "version": "3.5.1"
  }
 },
 "nbformat": 4,
 "nbformat_minor": 0
}
