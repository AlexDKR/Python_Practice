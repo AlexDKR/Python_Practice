{
 "cells": [
  {
   "cell_type": "code",
   "execution_count": 1,
   "metadata": {
    "collapsed": true
   },
   "outputs": [],
   "source": [
    "import pandas as pd\n",
    "import re as re"
   ]
  },
  {
   "cell_type": "markdown",
   "metadata": {},
   "source": [
    "## Q1. Find how many different degrees there are, and their frequencies: Ex:  PhD, ScD, MD, MPH, BSEd, MS, JD, etc."
   ]
  },
  {
   "cell_type": "code",
   "execution_count": 2,
   "metadata": {
    "collapsed": false
   },
   "outputs": [
    {
     "name": "stdout",
     "output_type": "stream",
     "text": [
      "BSEd         1\n",
      "JD           1\n",
      "MA           1\n",
      "MD           1\n",
      "MPH          2\n",
      "MS           2\n",
      "NoDegree     1\n",
      "PhD         31\n",
      "ScD          6\n",
      "dtype: int64\n"
     ]
    }
   ],
   "source": [
    "#Importing the data\n",
    "faculty_data = pd.read_csv('faculty.csv')\n",
    "\n",
    "# Removing whitespace/periods\n",
    "faculty_data[' degree'] = faculty_data[' degree'].map(str.strip)\n",
    "faculty_data[' degree'] = faculty_data[' degree'].str.replace('.','')\n",
    "faculty_data[' degree'] = faculty_data[' degree'].str.replace('0','NoDegree')\n",
    "\n",
    "#Splitting the entries with multiple degrees\n",
    "faculty_data_list = list(faculty_data[' degree'])\n",
    "long_str = \" \".join(faculty_data_list)\n",
    "best_list = long_str.split()\n",
    "\n",
    "#Create a dictionary to hold counts\n",
    "final_answer = {}\n",
    "for item in best_list:\n",
    "    if item not in final_answer:\n",
    "        final_answer[item] = 1\n",
    "    else:\n",
    "        final_answer[item] += 1\n",
    "\n",
    "print (pd.Series(final_answer))\n"
   ]
  },
  {
   "cell_type": "markdown",
   "metadata": {
    "collapsed": true
   },
   "source": [
    "## Q2. Find how many different titles there are, and their frequencies: Ex: Assistant Professor, Professor"
   ]
  },
  {
   "cell_type": "code",
   "execution_count": 12,
   "metadata": {
    "collapsed": false
   },
   "outputs": [
    {
     "data": {
      "text/plain": [
       "Professor of Biostatoftics              13\n",
       "Associate Professor of Biostatoftics    12\n",
       "Assoftant Professor of Biostatoftics    12\n",
       "Name:  title, dtype: int64"
      ]
     },
     "execution_count": 12,
     "metadata": {},
     "output_type": "execute_result"
    }
   ],
   "source": [
    "#Updating incorrect title from \"is\" to \"of\"\n",
    "# faculty_data[' title'] = faculty_data[' title'].str.replace('is','of')\n",
    "\n",
    "changing_titles = {'Professor of Biostatoftics' : 'Professor',\n",
    "                   'Associate Professor of Biostatoftics' : 'Associate Professor',\n",
    "                   'Assoftant Professor of Biostatoftics' : 'Assistant Professor'}\n",
    "\n",
    "faculty_data[' title'].value_counts()\n"
   ]
  },
  {
   "cell_type": "markdown",
   "metadata": {},
   "source": [
    "## Q3. Search for email addresses and put them in a list.  Print the list of email addresses."
   ]
  },
  {
   "cell_type": "code",
   "execution_count": 4,
   "metadata": {
    "collapsed": false
   },
   "outputs": [
    {
     "name": "stdout",
     "output_type": "stream",
     "text": [
      "['bellamys@mail.med.upenn.edu', 'warren@upenn.edu', 'bryanma@upenn.edu', 'jinboche@upenn.edu', 'sellenbe@upenn.edu', 'jellenbe@mail.med.upenn.edu', 'ruifeng@upenn.edu', 'bcfrench@mail.med.upenn.edu', 'pgimotty@upenn.edu', 'wguo@mail.med.upenn.edu', 'hsu9@mail.med.upenn.edu', 'rhubb@mail.med.upenn.edu', 'whwang@mail.med.upenn.edu', 'mjoffe@mail.med.upenn.edu', 'jrlandis@mail.med.upenn.edu', 'liy3@email.chop.edu', 'mingyao@mail.med.upenn.edu', 'hongzhe@upenn.edu', 'rlocalio@upenn.edu', 'nanditam@mail.med.upenn.edu', 'knashawn@mail.med.upenn.edu', 'propert@mail.med.upenn.edu', 'mputt@mail.med.upenn.edu', 'sratclif@upenn.edu', 'michross@upenn.edu', 'jaroy@mail.med.upenn.edu', 'msammel@cceb.med.upenn.edu', 'shawp@upenn.edu', 'rshi@mail.med.upenn.edu', 'hshou@mail.med.upenn.edu', 'jshults@mail.med.upenn.edu', 'alisaste@mail.med.upenn.edu', 'atroxel@mail.med.upenn.edu', 'rxiao@mail.med.upenn.edu', 'sxie@mail.med.upenn.edu', 'dxie@upenn.edu', 'weiyang@mail.med.upenn.edu']\n"
     ]
    }
   ],
   "source": [
    "list_of_emails = list(faculty_data[' email'])\n",
    "\n",
    "print(list_of_emails)"
   ]
  },
  {
   "cell_type": "markdown",
   "metadata": {},
   "source": [
    "## Q4. Find how many different email domains there are (Ex:  mail.med.upenn.edu, upenn.edu, email.chop.edu, etc.).  Print the list of unique email domains."
   ]
  },
  {
   "cell_type": "code",
   "execution_count": 5,
   "metadata": {
    "collapsed": false
   },
   "outputs": [
    {
     "name": "stdout",
     "output_type": "stream",
     "text": [
      "cceb.med.upenn.edu     1\n",
      "email.chop.edu         1\n",
      "mail.med.upenn.edu    23\n",
      "upenn.edu             12\n",
      "dtype: int64\n"
     ]
    }
   ],
   "source": [
    "#Using regular expressions to find the answer\n",
    "\n",
    "list_of_domains = []\n",
    "\n",
    "for email in list_of_emails:\n",
    "    match = re.search(r'([\\w.]+)@([\\w.]+)', email)\n",
    "    list_of_domains.append(match.group(2))\n",
    "    \n",
    "domain_final_answer = {}\n",
    "for domain in list_of_domains:\n",
    "    if domain not in domain_final_answer:\n",
    "        domain_final_answer[domain] = 1\n",
    "    else:\n",
    "        domain_final_answer[domain] += 1\n",
    "\n",
    "print (pd.Series(domain_final_answer))"
   ]
  },
  {
   "cell_type": "markdown",
   "metadata": {},
   "source": [
    "## Q5. Write email addresses from Part I to csv file"
   ]
  },
  {
   "cell_type": "code",
   "execution_count": 6,
   "metadata": {
    "collapsed": false
   },
   "outputs": [],
   "source": [
    "#I chose to switch back to a series instead of using the csv library\n",
    "series_of_emails = pd.Series(list_of_emails)\n",
    "series_of_emails.to_csv('email_addresses.csv',index=False)"
   ]
  },
  {
   "cell_type": "markdown",
   "metadata": {},
   "source": [
    "## Q6. Create a dictionary in the below format:"
   ]
  },
  {
   "cell_type": "code",
   "execution_count": 7,
   "metadata": {
    "collapsed": false
   },
   "outputs": [
    {
     "name": "stdout",
     "output_type": "stream",
     "text": [
      "Shinohara ['0', 'Assistant Professor of Biostatistics', 'rshi@mail.med.upenn.edu']\n",
      "Xie [' PhD', 'Assistant Professor of Biostatistics', 'dxie@upenn.edu']\n",
      "Bryan [' PhD', 'Assistant Professor of Biostatistics', 'bryanma@upenn.edu']\n",
      "Bilker ['Ph.D.', 'Professor of Biostatistics', 'warren@upenn.edu']\n",
      "Feng [' Ph.D', 'Assistant Professor of Biostatistics', 'ruifeng@upenn.edu']\n",
      "Hwang [' Ph.D.', 'Associate Professor of Biostatistics', 'whwang@mail.med.upenn.edu']\n",
      "Ratcliffe [' Ph.D.', 'Associate Professor of Biostatistics', 'sratclif@upenn.edu']\n",
      "Guo [' Ph.D', 'Professor of Biostatistics', 'wguo@mail.med.upenn.edu']\n",
      "Xiao [' PhD', 'Assistant Professor of Biostatistics', 'rxiao@mail.med.upenn.edu']\n",
      "Shou [' Ph.D.', 'Assistant Professor of Biostatistics', 'hshou@mail.med.upenn.edu']\n",
      "Chen [' Ph.D.', 'Associate Professor of Biostatistics', 'jinboche@upenn.edu']\n",
      "Hubbard [' PhD', 'Associate Professor of Biostatistics', 'rhubb@mail.med.upenn.edu']\n",
      "Localio [' JD MA MPH MS PhD', 'Associate Professor of Biostatistics', 'rlocalio@upenn.edu']\n",
      "Propert [' Sc.D.', 'Professor of Biostatistics', 'propert@mail.med.upenn.edu']\n",
      "Landis [' B.S.Ed. M.S. Ph.D.', 'Professor of Biostatistics', 'jrlandis@mail.med.upenn.edu']\n",
      "Putt [' PhD ScD', 'Professor of Biostatistics', 'mputt@mail.med.upenn.edu']\n",
      "Yang [' Ph.D.', 'Assistant Professor of Biostatistics', 'weiyang@mail.med.upenn.edu']\n",
      "Shults [' Ph.D.', 'Professor of Biostatistics', 'jshults@mail.med.upenn.edu']\n",
      "Morales [' Sc.D.', 'Associate Professor of Biostatistics', 'knashawn@mail.med.upenn.edu']\n",
      "Sammel [' Sc.D.', 'Professor of Biostatistics', 'msammel@cceb.med.upenn.edu']\n",
      "Stephens [' Ph.D.', 'Assistant Professor of Biostatistics', 'alisaste@mail.med.upenn.edu']\n",
      "Ellenberg [' Ph.D.', 'Professor of Biostatistics', 'jellenbe@mail.med.upenn.edu']\n",
      "Bellamy [' Sc.D.', 'Associate Professor of Biostatistics', 'bellamys@mail.med.upenn.edu']\n",
      "Li [' Ph.D', 'Professor of Biostatistics', 'hongzhe@upenn.edu']\n",
      "Roy [' Ph.D.', 'Associate Professor of Biostatistics', 'jaroy@mail.med.upenn.edu']\n",
      "Hsu [' Ph.D.', 'Assistant Professor of Biostatistics', 'hsu9@mail.med.upenn.edu']\n",
      "Gimotty [' Ph.D', 'Professor of Biostatistics', 'pgimotty@upenn.edu']\n",
      "Ross [' PhD', 'Assistant Professor is Biostatistics', 'michross@upenn.edu']\n",
      "Shaw [' PhD', 'Assistant Professor of Biostatistics', 'shawp@upenn.edu']\n",
      "Troxel [' ScD', 'Professor of Biostatistics', 'atroxel@mail.med.upenn.edu']\n",
      "Joffe [' MD MPH Ph.D', 'Professor of Biostatistics', 'mjoffe@mail.med.upenn.edu']\n",
      "French [' PhD', 'Associate Professor of Biostatistics', 'bcfrench@mail.med.upenn.edu']\n",
      "Mitra [' Ph.D.', 'Associate Professor of Biostatistics', 'nanditam@mail.med.upenn.edu']\n"
     ]
    }
   ],
   "source": [
    "faculty_data_original = pd.read_csv('faculty.csv')\n",
    "\n",
    "#Add A column for last names\n",
    "\n",
    "\n",
    "\n",
    "# print (faculty_data_original)\n",
    "\n",
    "faculty_dict = {}\n",
    "\n",
    "for index, row in faculty_data_original.iterrows():\n",
    "    \n",
    "    match = re.search(r'([\\w.]+\\Z)', row['name'])\n",
    "    faculty_dict[match.group()] = [row[' degree'] , row[' title'], row[' email']]\n",
    "    \n",
    "for key, value in faculty_dict.items():\n",
    "    print (key + ' ' + str(value))\n"
   ]
  },
  {
   "cell_type": "code",
   "execution_count": null,
   "metadata": {
    "collapsed": true
   },
   "outputs": [],
   "source": []
  }
 ],
 "metadata": {
  "kernelspec": {
   "display_name": "Python 3",
   "language": "python",
   "name": "python3"
  },
  "language_info": {
   "codemirror_mode": {
    "name": "ipython",
    "version": 3
   },
   "file_extension": ".py",
   "mimetype": "text/x-python",
   "name": "python",
   "nbconvert_exporter": "python",
   "pygments_lexer": "ipython3",
   "version": "3.5.1"
  }
 },
 "nbformat": 4,
 "nbformat_minor": 0
}
