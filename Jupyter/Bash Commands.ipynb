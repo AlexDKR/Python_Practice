{
 "cells": [
  {
   "cell_type": "code",
   "execution_count": null,
   "metadata": {
    "collapsed": true
   },
   "outputs": [],
   "source": [
    "vim ~/.bash_profile\n",
    "git config --list\n",
    "\n",
    "pwd\n",
    "cd ~\n",
    "\n",
    "git config --global user.name 'Your Name'\n",
    "git config --global user.email you@somedomain.com\n",
    "\n",
    "alias prof=\"subl ~/.bash_profile\"\n",
    "alias reprof=\". ~/.bash_profile\"\n",
    "alias gs=\"git status\"\n",
    "alias gprum=\"git pull --rebase upstream master\"\n",
    "alias gpom=\"gprum && git push origin master\"\n",
    "alias gaA=\"git add -A\"\n",
    "alias gc=\"git commit”"
   ]
  },
  {
   "cell_type": "code",
   "execution_count": null,
   "metadata": {
    "collapsed": true
   },
   "outputs": [],
   "source": []
  }
 ],
 "metadata": {
  "kernelspec": {
   "display_name": "Bash",
   "language": "bash",
   "name": "bash"
  },
  "language_info": {
   "codemirror_mode": "shell",
   "file_extension": ".sh",
   "mimetype": "text/x-sh",
   "name": "bash"
  }
 },
 "nbformat": 4,
 "nbformat_minor": 0
}
