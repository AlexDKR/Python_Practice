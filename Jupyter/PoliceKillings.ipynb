{
 "cells": [
  {
   "cell_type": "code",
   "execution_count": 1,
   "metadata": {
    "collapsed": false
   },
   "outputs": [
    {
     "name": "stdout",
     "output_type": "stream",
     "text": [
      "                 name age gender    raceethnicity     month  day  year  \\\n",
      "0  A'donte Washington  16   Male            Black  February   23  2015   \n",
      "1      Aaron Rutledge  27   Male            White     April    2  2015   \n",
      "2         Aaron Siler  26   Male            White     March   14  2015   \n",
      "3        Aaron Valdez  25   Male  Hispanic/Latino     March   11  2015   \n",
      "4        Adam Jovicic  29   Male            White     March   19  2015   \n",
      "\n",
      "            streetaddress          city state    ...     share_hispanic  \\\n",
      "0            Clearview Ln     Millbrook    AL    ...                5.6   \n",
      "1  300 block Iris Park Dr     Pineville    LA    ...                0.5   \n",
      "2    22nd Ave and 56th St       Kenosha    WI    ...               16.8   \n",
      "3       3000 Seminole Ave    South Gate    CA    ...               98.8   \n",
      "4          364 Hiwood Ave  Munroe Falls    OH    ...                1.7   \n",
      "\n",
      "   p_income  h_income  county_income  comp_income  county_bucket  nat_bucket  \\\n",
      "0     28375   51367.0          54766     0.937936            3.0         3.0   \n",
      "1     14678   27972.0          40930     0.683411            2.0         1.0   \n",
      "2     25286   45365.0          54930     0.825869            2.0         3.0   \n",
      "3     17194   48295.0          55909     0.863814            3.0         3.0   \n",
      "4     33954   68785.0          49669     1.384868            5.0         4.0   \n",
      "\n",
      "    pov     urate   college  \n",
      "0  14.1  0.097686  0.168510  \n",
      "1  28.8  0.065724  0.111402  \n",
      "2  14.6  0.166293  0.147312  \n",
      "3  11.7  0.124827  0.050133  \n",
      "4   1.9  0.063550  0.403954  \n",
      "\n",
      "[5 rows x 34 columns]\n"
     ]
    }
   ],
   "source": [
    "import pandas as pd\n",
    "\n",
    "police_killings = pd.read_csv('police_killings.csv', encoding='ISO-8859-1')\n",
    "\n",
    "print (police_killings.head())"
   ]
  },
  {
   "cell_type": "code",
   "execution_count": 2,
   "metadata": {
    "collapsed": false
   },
   "outputs": [
    {
     "data": {
      "image/png": "[encoded data removed]",
      "text/plain": [
       "<matplotlib.figure.Figure at 0x111616be0>"
      ]
     },
     "metadata": {},
     "output_type": "display_data"
    },
    {
     "data": {
      "text/plain": [
       "White                     50.535332\n",
       "Black                     28.907923\n",
       "Hispanic/Latino           14.346895\n",
       "Unknown                    3.211991\n",
       "Asian/Pacific Islander     2.141328\n",
       "Native American            0.856531\n",
       "Name: raceethnicity, dtype: float64"
      ]
     },
     "execution_count": 2,
     "metadata": {},
     "output_type": "execute_result"
    }
   ],
   "source": [
    "import matplotlib.pyplot as plt\n",
    "#Prev used numpy.arange to find, but range also can work.\n",
    "import numpy as np\n",
    "%matplotlib inline\n",
    "\n",
    "#Running value_counts() on series\n",
    "\n",
    "counts = police_killings['raceethnicity'].value_counts()\n",
    "\n",
    "plt.bar(range(6), height = counts)\n",
    "plt.xticks(range(6), counts.index, rotation=\"vertical\")\n",
    "plt.show()\n",
    "\n",
    "# Reviewing Percentages\n",
    "\n",
    "(counts/sum(counts)) * 100"
   ]
  },
  {
   "cell_type": "code",
   "execution_count": 3,
   "metadata": {
    "collapsed": false
   },
   "outputs": [
    {
     "name": "stdout",
     "output_type": "stream",
     "text": [
      "median: 22348.000000\n"
     ]
    },
    {
     "data": {
      "image/png": "[encoded data removed]",
      "text/plain": [
       "<matplotlib.figure.Figure at 0x1033faac8>"
      ]
     },
     "metadata": {},
     "output_type": "display_data"
    }
   ],
   "source": [
    "# Examining the income levels of the victim's area\n",
    "\n",
    "condition = police_killings['p_income'] != '-'\n",
    "\n",
    "income = police_killings['p_income'][condition].astype(float).hist(bins = 20)\n",
    "median = police_killings['p_income'][condition].astype(float).median()\n",
    "\n",
    "print ('median: %f' %median)"
   ]
  },
  {
   "cell_type": "code",
   "execution_count": 4,
   "metadata": {
    "collapsed": false
   },
   "outputs": [
    {
     "name": "stdout",
     "output_type": "stream",
     "text": [
      "    STATE  shootings  SUMLEV REGION DIVISION                  NAME  \\\n",
      "43      9          1      40      1        1           Connecticut   \n",
      "22     42          7      40      1        2          Pennsylvania   \n",
      "38     19          2      40      2        4                  Iowa   \n",
      "6      36         13      40      1        2              New York   \n",
      "29     25          5      40      1        1         Massachusetts   \n",
      "42     33          1      40      1        1         New Hampshire   \n",
      "45     23          1      40      1        1                 Maine   \n",
      "11     17         11      40      2        3              Illinois   \n",
      "12     39         10      40      2        3                  Ohio   \n",
      "31     55          5      40      2        3             Wisconsin   \n",
      "16     26          9      40      2        3              Michigan   \n",
      "28     47          6      40      3        6             Tennessee   \n",
      "15     37         10      40      3        5        North Carolina   \n",
      "36     32          3      40      4        8                Nevada   \n",
      "18     51          9      40      3        5              Virginia   \n",
      "40     54          2      40      3        5         West Virginia   \n",
      "25     27          6      40      2        4             Minnesota   \n",
      "20     18          8      40      2        3               Indiana   \n",
      "8      34         11      40      1        2            New Jersey   \n",
      "35      5          4      40      3        7              Arkansas   \n",
      "2      12         29      40      3        5               Florida   \n",
      "44     11          1      40      3        5  District of Columbia   \n",
      "9      53         11      40      4        9            Washington   \n",
      "5      13         16      40      3        5               Georgia   \n",
      "23     21          7      40      3        6              Kentucky   \n",
      "13     29         10      40      2        4              Missouri   \n",
      "21      1          8      40      3        6               Alabama   \n",
      "14     24         10      40      3        5              Maryland   \n",
      "30     49          5      40      4        8                  Utah   \n",
      "46     56          1      40      4        8               Wyoming   \n",
      "1      48         47      40      3        7                 Texas   \n",
      "17     45          9      40      3        5        South Carolina   \n",
      "0       6         74      40      4        9            California   \n",
      "37     30          2      40      4        8               Montana   \n",
      "19     41          8      40      4        9                Oregon   \n",
      "26     28          6      40      3        6           Mississippi   \n",
      "24     20          6      40      2        4                Kansas   \n",
      "41     10          2      40      3        5              Delaware   \n",
      "7       8         12      40      4        8              Colorado   \n",
      "10     22         11      40      3        7             Louisiana   \n",
      "32     35          5      40      4        8            New Mexico   \n",
      "33     16          4      40      4        8                 Idaho   \n",
      "39      2          2      40      4        9                Alaska   \n",
      "34     15          4      40      4        9                Hawaii   \n",
      "27     31          6      40      2        4              Nebraska   \n",
      "3       4         25      40      4        8               Arizona   \n",
      "4      40         22      40      3        7              Oklahoma   \n",
      "\n",
      "    POPESTIMATE2015  POPEST18PLUS2015  PCNT_POPEST18PLUS  pop_millions  \\\n",
      "43          3590886           2826827               78.7      3.590886   \n",
      "22         12802503          10112229               79.0     12.802503   \n",
      "38          3123899           2395103               76.7      3.123899   \n",
      "6          19795791          15584974               78.7     19.795791   \n",
      "29          6794422           5407335               79.6      6.794422   \n",
      "42          1330608           1066610               80.2      1.330608   \n",
      "45          1329328           1072948               80.7      1.329328   \n",
      "11         12859995           9901322               77.0     12.859995   \n",
      "12         11613423           8984946               77.4     11.613423   \n",
      "31          5771337           4476711               77.6      5.771337   \n",
      "16          9922576           7715272               77.8      9.922576   \n",
      "28          6600299           5102688               77.3      6.600299   \n",
      "15         10042802           7752234               77.2     10.042802   \n",
      "36          2890845           2221681               76.9      2.890845   \n",
      "18          8382993           6512571               77.7      8.382993   \n",
      "40          1844128           1464532               79.4      1.844128   \n",
      "25          5489594           4205207               76.6      5.489594   \n",
      "20          6619680           5040224               76.1      6.619680   \n",
      "8           8958013           6959192               77.7      8.958013   \n",
      "35          2978204           2272904               76.3      2.978204   \n",
      "2          20271272          16166143               79.7     20.271272   \n",
      "44           672228            554121               82.4      0.672228   \n",
      "9           7170351           5558509               77.5      7.170351   \n",
      "5          10214860           7710688               75.5     10.214860   \n",
      "23          4425092           3413425               77.1      4.425092   \n",
      "13          6083672           4692196               77.1      6.083672   \n",
      "21          4858979           3755483               77.3      4.858979   \n",
      "14          6006401           4658175               77.6      6.006401   \n",
      "30          2995919           2083423               69.5      2.995919   \n",
      "46           586107            447212               76.3      0.586107   \n",
      "1          27469114          20257343               73.7     27.469114   \n",
      "17          4896146           3804558               77.7      4.896146   \n",
      "0          39144818          30023902               76.7     39.144818   \n",
      "37          1032949            806529               78.1      1.032949   \n",
      "19          4028977           3166121               78.6      4.028977   \n",
      "26          2992333           2265485               75.7      2.992333   \n",
      "24          2911641           2192084               75.3      2.911641   \n",
      "41           945934            741548               78.4      0.945934   \n",
      "7           5456574           4199509               77.0      5.456574   \n",
      "10          4670724           3555911               76.1      4.670724   \n",
      "32          2085109           1588201               76.2      2.085109   \n",
      "33          1654930           1222093               73.8      1.654930   \n",
      "39           738432            552166               74.8      0.738432   \n",
      "34          1431603           1120770               78.3      1.431603   \n",
      "27          1896190           1425853               75.2      1.896190   \n",
      "3           6828065           5205215               76.2      6.828065   \n",
      "4           3911338           2950017               75.4      3.911338   \n",
      "\n",
      "        rate  \n",
      "43  0.278483  \n",
      "22  0.546768  \n",
      "38  0.640226  \n",
      "6   0.656705  \n",
      "29  0.735898  \n",
      "42  0.751536  \n",
      "45  0.752260  \n",
      "11  0.855366  \n",
      "12  0.861073  \n",
      "31  0.866350  \n",
      "16  0.907023  \n",
      "28  0.909050  \n",
      "15  0.995738  \n",
      "36  1.037759  \n",
      "18  1.073602  \n",
      "40  1.084523  \n",
      "25  1.092977  \n",
      "20  1.208518  \n",
      "8   1.227951  \n",
      "35  1.343091  \n",
      "2   1.430596  \n",
      "44  1.487591  \n",
      "9   1.534095  \n",
      "5   1.566346  \n",
      "23  1.581888  \n",
      "13  1.643744  \n",
      "21  1.646436  \n",
      "14  1.664891  \n",
      "30  1.668937  \n",
      "46  1.706173  \n",
      "1   1.711013  \n",
      "17  1.838180  \n",
      "0   1.890416  \n",
      "37  1.936204  \n",
      "19  1.985616  \n",
      "26  2.005124  \n",
      "24  2.060694  \n",
      "41  2.114312  \n",
      "7   2.199182  \n",
      "10  2.355095  \n",
      "32  2.397956  \n",
      "33  2.417021  \n",
      "39  2.708442  \n",
      "34  2.794071  \n",
      "27  3.164240  \n",
      "3   3.661359  \n",
      "4   5.624674  \n"
     ]
    },
    {
     "name": "stderr",
     "output_type": "stream",
     "text": [
      "/Users/Hayw1re/anaconda/lib/python3.5/site-packages/ipykernel/__main__.py:20: FutureWarning: sort(columns=....) is deprecated, use sort_values(by=.....)\n"
     ]
    }
   ],
   "source": [
    "#Reading state population data / merging with police_killings data\n",
    "state_pop = pd.read_csv('state_population.csv')\n",
    "counts = police_killings ['state_fp'].value_counts()\n",
    "\n",
    "#Create a new dataframe that holds the shooting counts\n",
    "states = pd.DataFrame({\n",
    "        \"STATE\": counts.index,\n",
    "        \"shootings\": counts\n",
    "    })\n",
    "\n",
    "# print (counts)\n",
    "\n",
    "#Merge the Data\n",
    "states = states.merge(state_pop, on=\"STATE\")\n",
    "\n",
    "#Create a new column\n",
    "states['pop_millions'] = states['POPESTIMATE2015']/1000000\n",
    "states['rate'] = states['shootings']/states['pop_millions']\n",
    "\n",
    "print(states.sort(\"rate\"))"
   ]
  },
  {
   "cell_type": "code",
   "execution_count": 5,
   "metadata": {
    "collapsed": false,
    "scrolled": true
   },
   "outputs": [
    {
     "data": {
      "text/plain": [
       "CA    74\n",
       "TX    46\n",
       "FL    29\n",
       "AZ    25\n",
       "OK    22\n",
       "GA    16\n",
       "NY    14\n",
       "CO    12\n",
       "WA    11\n",
       "IL    11\n",
       "NJ    11\n",
       "LA    11\n",
       "MO    10\n",
       "MD    10\n",
       "NC    10\n",
       "OH    10\n",
       "SC     9\n",
       "MI     9\n",
       "VA     9\n",
       "AL     8\n",
       "IN     8\n",
       "OR     8\n",
       "KY     7\n",
       "PA     7\n",
       "MN     6\n",
       "NE     6\n",
       "MS     6\n",
       "KS     6\n",
       "TN     6\n",
       "UT     5\n",
       "NM     5\n",
       "MA     5\n",
       "WI     5\n",
       "ID     4\n",
       "AR     4\n",
       "HI     4\n",
       "NV     3\n",
       "IA     2\n",
       "MT     2\n",
       "DE     2\n",
       "AK     2\n",
       "WV     2\n",
       "NH     1\n",
       "ME     1\n",
       "WY     1\n",
       "CT     1\n",
       "DC     1\n",
       "Name: state, dtype: int64"
      ]
     },
     "execution_count": 5,
     "metadata": {},
     "output_type": "execute_result"
    }
   ],
   "source": [
    "police_killings[\"state\"].value_counts()"
   ]
  },
  {
   "cell_type": "code",
   "execution_count": 6,
   "metadata": {
    "collapsed": false,
    "scrolled": true
   },
   "outputs": [
    {
     "name": "stdout",
     "output_type": "stream",
     "text": [
      "0      AL\n",
      "1      LA\n",
      "2      WI\n",
      "3      CA\n",
      "4      OH\n",
      "5      AZ\n",
      "6      CA\n",
      "7      CA\n",
      "8      TX\n",
      "9      MI\n",
      "10     CA\n",
      "11     CA\n",
      "12     TX\n",
      "13     IN\n",
      "14     IN\n",
      "15     TN\n",
      "16     GA\n",
      "17     VA\n",
      "18     CA\n",
      "19     CA\n",
      "20     CA\n",
      "21     NE\n",
      "22     KS\n",
      "23     CA\n",
      "24     OK\n",
      "25     OR\n",
      "26     NH\n",
      "27     CA\n",
      "28     FL\n",
      "29     TX\n",
      "       ..\n",
      "437    NE\n",
      "438    WA\n",
      "439    NM\n",
      "440    CA\n",
      "441    CO\n",
      "442    IL\n",
      "443    WI\n",
      "444    TX\n",
      "445    MS\n",
      "446    OK\n",
      "447    ID\n",
      "448    WI\n",
      "449    NE\n",
      "450    TX\n",
      "451    TX\n",
      "452    NY\n",
      "453    TX\n",
      "454    CA\n",
      "455    NY\n",
      "456    VA\n",
      "457    SC\n",
      "458    TX\n",
      "459    TX\n",
      "460    AL\n",
      "461    NJ\n",
      "462    VA\n",
      "463    WA\n",
      "464    NC\n",
      "465    CA\n",
      "466    CA\n",
      "Name: state, dtype: object\n"
     ]
    },
    {
     "name": "stderr",
     "output_type": "stream",
     "text": [
      "/Users/Hayw1re/anaconda/lib/python3.5/site-packages/ipykernel/__main__.py:9: SettingWithCopyWarning: \n",
      "A value is trying to be set on a copy of a slice from a DataFrame.\n",
      "Try using .loc[row_indexer,col_indexer] = value instead\n",
      "\n",
      "See the caveats in the documentation: http://pandas.pydata.org/pandas-docs/stable/indexing.html#indexing-view-versus-copy\n",
      "/Users/Hayw1re/anaconda/lib/python3.5/site-packages/ipykernel/__main__.py:10: SettingWithCopyWarning: \n",
      "A value is trying to be set on a copy of a slice from a DataFrame.\n",
      "Try using .loc[row_indexer,col_indexer] = value instead\n",
      "\n",
      "See the caveats in the documentation: http://pandas.pydata.org/pandas-docs/stable/indexing.html#indexing-view-versus-copy\n",
      "/Users/Hayw1re/anaconda/lib/python3.5/site-packages/ipykernel/__main__.py:11: SettingWithCopyWarning: \n",
      "A value is trying to be set on a copy of a slice from a DataFrame.\n",
      "Try using .loc[row_indexer,col_indexer] = value instead\n",
      "\n",
      "See the caveats in the documentation: http://pandas.pydata.org/pandas-docs/stable/indexing.html#indexing-view-versus-copy\n"
     ]
    }
   ],
   "source": [
    "# print(police_killings.describe())\n",
    "\n",
    "pk = police_killings[\n",
    "(police_killings['share_white'] != '-') &\n",
    "(police_killings['share_black'] != '-') &\n",
    "(police_killings['share_hispanic'] != '-')\n",
    "]\n",
    "\n",
    "pk[\"share_white\"] = pk[\"share_white\"].astype(float)\n",
    "pk[\"share_black\"] = pk[\"share_black\"].astype(float)\n",
    "pk[\"share_hispanic\"] = pk[\"share_hispanic\"].astype(float)\n",
    "\n",
    "print(pk['state'])\n",
    "\n",
    "\n",
    "lowest_states = [\"CT\", \"PA\", \"IA\", \"NY\", \"MA\", \"NH\", \"ME\", \"IL\", \"OH\", \"WI\"]\n",
    "highest_states = [\"OK\", \"AZ\", \"NE\", \"HI\", \"AK\", \"ID\", \"NM\", \"LA\", \"CO\", \"DE\"]\n",
    "\n",
    "ls = pk[pk[\"state\"].isin(lowest_states)]\n",
    "hs = pk[pk[\"state\"].isin(highest_states)]"
   ]
  },
  {
   "cell_type": "code",
   "execution_count": 7,
   "metadata": {
    "collapsed": false
   },
   "outputs": [
    {
     "data": {
      "text/plain": [
       "pop                4201.660714\n",
       "county_income     54830.839286\n",
       "share_white          60.616071\n",
       "share_black          21.257143\n",
       "share_hispanic       12.948214\n",
       "dtype: float64"
      ]
     },
     "execution_count": 7,
     "metadata": {},
     "output_type": "execute_result"
    }
   ],
   "source": [
    "columns = [\"pop\", \"county_income\", \"share_white\", \"share_black\", \"share_hispanic\"]\n",
    "\n",
    "ls[columns].mean()"
   ]
  },
  {
   "cell_type": "code",
   "execution_count": 8,
   "metadata": {
    "collapsed": false
   },
   "outputs": [
    {
     "data": {
      "text/plain": [
       "pop                4315.750000\n",
       "county_income     48706.967391\n",
       "share_white          55.652174\n",
       "share_black          11.532609\n",
       "share_hispanic       20.693478\n",
       "dtype: float64"
      ]
     },
     "execution_count": 8,
     "metadata": {},
     "output_type": "execute_result"
    }
   ],
   "source": [
    "hs[columns].mean()"
   ]
  },
  {
   "cell_type": "code",
   "execution_count": null,
   "metadata": {
    "collapsed": true
   },
   "outputs": [],
   "source": []
  }
 ],
 "metadata": {
  "kernelspec": {
   "display_name": "Python 3",
   "language": "python",
   "name": "python3"
  },
  "language_info": {
   "codemirror_mode": {
    "name": "ipython",
    "version": 3
   },
   "file_extension": ".py",
   "mimetype": "text/x-python",
   "name": "python",
   "nbconvert_exporter": "python",
   "pygments_lexer": "ipython3",
   "version": "3.5.1"
  }
 },
 "nbformat": 4,
 "nbformat_minor": 0
}
