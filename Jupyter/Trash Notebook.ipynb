{
 "cells": [
  {
   "cell_type": "code",
   "execution_count": 16,
   "metadata": {
    "collapsed": false
   },
   "outputs": [],
   "source": [
    "store_item_prices = [89,62,83,46,31,108,99]\n",
    "calculate_sale = [n - 5 for n in store_item_prices if n < 100]"
   ]
  },
  {
   "cell_type": "code",
   "execution_count": 2,
   "metadata": {
    "collapsed": false
   },
   "outputs": [
    {
     "name": "stdout",
     "output_type": "stream",
     "text": [
      "[4, 8, 12, 16, 20]\n"
     ]
    }
   ],
   "source": [
    "numbers = [1,2,3,4,5,6,7,8,9,10]\n",
    "\n",
    "double_evens = list(map(lambda w: w * 2, filter(lambda w: w % 2 == 0,numbers)))\n",
    "\n",
    "print(double_evens)"
   ]
  },
  {
   "cell_type": "code",
   "execution_count": 3,
   "metadata": {
    "collapsed": false
   },
   "outputs": [
    {
     "name": "stdout",
     "output_type": "stream",
     "text": [
      "[4, 8, 12, 16, 20]\n"
     ]
    }
   ],
   "source": [
    "numbers = [1,2,3,4,5,6,7,8,9,10]\n",
    "\n",
    "double_evens = [w * 2 for w in numbers if w % 2 ==0]\n",
    "\n",
    "print(double_evens)"
   ]
  },
  {
   "cell_type": "code",
   "execution_count": 4,
   "metadata": {
    "collapsed": false
   },
   "outputs": [
    {
     "name": "stdout",
     "output_type": "stream",
     "text": [
      "{8, 3, 4, 6}\n"
     ]
    }
   ],
   "source": [
    "list_of_names = ['John','Balboa','Johnny','Jon','Nicholas', 'Mark']\n",
    "unique_name_lengths = {len(name) for name in list_of_names}\n",
    "\n",
    "print (unique_name_lengths)"
   ]
  },
  {
   "cell_type": "code",
   "execution_count": 5,
   "metadata": {
    "collapsed": false
   },
   "outputs": [
    {
     "name": "stdout",
     "output_type": "stream",
     "text": [
      "{'Wolverine': 9, 'Gambit': 6, 'Colossus': 8, 'Beast': 5, 'Cyclops': 7}\n"
     ]
    }
   ],
   "source": [
    "list_of_heroes = {'Cyclops','Wolverine','Colossus','Beast','Gambit'}\n",
    "length_of_hero_name = {hero:len(hero) for hero in list_of_heroes}\n",
    "\n",
    "print (length_of_hero_name)"
   ]
  },
  {
   "cell_type": "code",
   "execution_count": 6,
   "metadata": {
    "collapsed": false
   },
   "outputs": [
    {
     "name": "stdout",
     "output_type": "stream",
     "text": [
      "{'Balboa', 'Nicholas', 'John', 'Mark', 'Johnny', 'Jon'}\n"
     ]
    }
   ],
   "source": [
    "list_of_names = ['John','Balboa','Johnny','Jon','Nicholas', 'Mark','John']\n",
    "unique_names= {(name) for name in list_of_names}\n",
    "\n",
    "print(unique_names)"
   ]
  },
  {
   "cell_type": "code",
   "execution_count": 7,
   "metadata": {
    "collapsed": false
   },
   "outputs": [
    {
     "name": "stdout",
     "output_type": "stream",
     "text": [
      "{'Wolverine': 4, 'Gambit': 0, 'Colossus': 2, 'Beast': 3, 'Cyclops': 1}\n"
     ]
    }
   ],
   "source": [
    "# Dictionary Comprehension Example 2\n",
    "list_of_heroes = {'Cyclops','Wolverine','Colossus','Beast','Gambit'}\n",
    "index_of_heroes = {hero:index for index, hero in enumerate(list_of_heroes)}\n",
    "\n",
    "print (index_of_heroes)"
   ]
  },
  {
   "cell_type": "code",
   "execution_count": 8,
   "metadata": {
    "collapsed": false
   },
   "outputs": [
    {
     "ename": "AttributeError",
     "evalue": "module 'datetime' has no attribute 'strptime'",
     "output_type": "error",
     "traceback": [
      "\u001b[0;31m---------------------------------------------------------------------------\u001b[0m",
      "\u001b[0;31mAttributeError\u001b[0m                            Traceback (most recent call last)",
      "\u001b[0;32m<ipython-input-8-5a236ebc8c94>\u001b[0m in \u001b[0;36m<module>\u001b[0;34m()\u001b[0m\n\u001b[1;32m      4\u001b[0m \u001b[0mdate_stop\u001b[0m \u001b[0;34m=\u001b[0m \u001b[0;34m'07-28-2015'\u001b[0m\u001b[0;34m\u001b[0m\u001b[0m\n\u001b[1;32m      5\u001b[0m \u001b[0;34m\u001b[0m\u001b[0m\n\u001b[0;32m----> 6\u001b[0;31m \u001b[0ma\u001b[0m \u001b[0;34m=\u001b[0m \u001b[0mdatetime\u001b[0m\u001b[0;34m.\u001b[0m\u001b[0mstrptime\u001b[0m\u001b[0;34m(\u001b[0m\u001b[0mdate_start\u001b[0m\u001b[0;34m,\u001b[0m \u001b[0;34m\"%m-%d-%Y\"\u001b[0m\u001b[0;34m)\u001b[0m\u001b[0;34m\u001b[0m\u001b[0m\n\u001b[0m\u001b[1;32m      7\u001b[0m \u001b[0mb\u001b[0m \u001b[0;34m=\u001b[0m \u001b[0mdatetime\u001b[0m\u001b[0;34m.\u001b[0m\u001b[0mstrptime\u001b[0m\u001b[0;34m(\u001b[0m\u001b[0mdate_stop\u001b[0m\u001b[0;34m,\u001b[0m \u001b[0;34m\"%m-%d-%Y\"\u001b[0m\u001b[0;34m)\u001b[0m\u001b[0;34m\u001b[0m\u001b[0m\n\u001b[1;32m      8\u001b[0m \u001b[0;34m\u001b[0m\u001b[0m\n",
      "\u001b[0;31mAttributeError\u001b[0m: module 'datetime' has no attribute 'strptime'"
     ]
    }
   ],
   "source": [
    "import datetime\n",
    "\n",
    "date_start = '01-02-2013'\n",
    "date_stop = '07-28-2015'\n",
    "\n",
    "a = datetime.strptime(date_start, \"%m-%d-%Y\")\n",
    "b = datetime.strptime(date_stop, \"%m-%d-%Y\")\n",
    "\n",
    "print (b-a)\n",
    "\n"
   ]
  },
  {
   "cell_type": "code",
   "execution_count": null,
   "metadata": {
    "collapsed": false
   },
   "outputs": [],
   "source": [
    "from datetime import date\n",
    "\n",
    "date_start = '12312013'\n",
    "date_stop = '05282015'\n",
    "\n",
    "a = datetime.strptime(date_start, \"%m%d%Y\")\n",
    "b = datetime.strptime(date_stop, \"%m%d%Y\")\n",
    "\n",
    "print (b-a)"
   ]
  },
  {
   "cell_type": "code",
   "execution_count": null,
   "metadata": {
    "collapsed": false
   },
   "outputs": [],
   "source": [
    "from datetime import date\n",
    "\n",
    "date_start = '15-Jan-1994'\n",
    "date_stop = '14-Jul-2015'\n",
    "\n",
    "a = datetime.strptime(date_start, \"%d-%b-%Y\")\n",
    "b = datetime.strptime(date_stop, \"%d-%b-%Y\")\n",
    "\n",
    "print (b-a)"
   ]
  },
  {
   "cell_type": "code",
   "execution_count": null,
   "metadata": {
    "collapsed": false
   },
   "outputs": [],
   "source": [
    "def donuts(count):\n",
    "    \"\"\"\n",
    "    Given an int count of a number of donuts, return a string of the\n",
    "    form 'Number of donuts: <count>', where <count> is the number\n",
    "    passed in. However, if the count is 10 or more, then use the word\n",
    "    'many' instead of the actual count.\n",
    "\n",
    "    >>> donuts(4)\n",
    "    'Number of donuts: 4'\n",
    "    >>> donuts(9)\n",
    "    'Number of donuts: 9'\n",
    "    >>> donuts(10)\n",
    "    'Number of donuts: many'\n",
    "    >>> donuts(99)\n",
    "    'Number of donuts: many'\n",
    "    \"\"\"\n",
    "    if count < 10:\n",
    "        print ('Number of donuts: {}'.format(count))\n",
    "    elif count >= 10:\n",
    "        print ('Number of donuts: many')\n",
    "    else:\n",
    "        raise NotImplementedError\n",
    "        \n",
    "donuts(0)"
   ]
  },
  {
   "cell_type": "code",
   "execution_count": null,
   "metadata": {
    "collapsed": false
   },
   "outputs": [],
   "source": [
    "def both_ends(s):\n",
    "    \"\"\"\n",
    "    Given a string s, return a string made of the first 2 and the last\n",
    "    2 chars of the original string, so 'spring' yields 'spng'.\n",
    "    However, if the string length is less than 2, return instead the\n",
    "    empty string.\n",
    "\n",
    "    >>> both_ends('spring')\n",
    "    'spng'\n",
    "    >>> both_ends('Hello')\n",
    "    'Helo'\n",
    "    >>> both_ends('a')\n",
    "    ''\n",
    "    >>> both_ends('xyz')\n",
    "    'xyyz'\n",
    "    \"\"\"\n",
    "    if len(s) < 2:\n",
    "        print (\"\")\n",
    "    else:\n",
    "        print(s[0:2]+s[-2]+s[-1])\n",
    "        \n",
    "both_ends('spring')\n",
    "        "
   ]
  },
  {
   "cell_type": "code",
   "execution_count": null,
   "metadata": {
    "collapsed": false
   },
   "outputs": [],
   "source": [
    "def fix_start(s):\n",
    "    \"\"\"\n",
    "    Given a string s, return a string where all occurences of its\n",
    "    first char have been changed to '*', except do not change the\n",
    "    first char itself. e.g. 'babble' yields 'ba**le' Assume that the\n",
    "    string is length 1 or more.\n",
    "\n",
    "    >>> fix_start('babble')\n",
    "    'ba**le'\n",
    "    >>> fix_start('aardvark')\n",
    "    'a*rdv*rk'\n",
    "    >>> fix_start('google')\n",
    "    'goo*le'\n",
    "    >>> fix_start('donut')\n",
    "    'donut'\n",
    "    \"\"\"\n",
    "    print (s[0]+s[1:].replace(s[0],'*'))\n",
    "    \n",
    "fix_start('donut')"
   ]
  },
  {
   "cell_type": "code",
   "execution_count": null,
   "metadata": {
    "collapsed": false
   },
   "outputs": [],
   "source": [
    "def mix_up(a, b):\n",
    "    \"\"\"\n",
    "    Given strings a and b, return a single string with a and b\n",
    "    separated by a space '<a> <b>', except swap the first 2 chars of\n",
    "    each string. Assume a and b are length 2 or more.\n",
    "\n",
    "    >>> mix_up('mix', 'pod')\n",
    "    'pox mid'\n",
    "    >>> mix_up('dog', 'dinner')\n",
    "    'dig donner'\n",
    "    >>> mix_up('gnash', 'sport')\n",
    "    'spash gnort'\n",
    "    >>> mix_up('pezzy', 'firm')\n",
    "    'fizzy perm'\n",
    "    \"\"\"\n",
    "    print(b[0]+b[1]+a[2:]+\" \"+a[0]+a[1]+b[2:])\n",
    "    \n",
    "mix_up('pezzy','firm')"
   ]
  },
  {
   "cell_type": "code",
   "execution_count": null,
   "metadata": {
    "collapsed": false
   },
   "outputs": [],
   "source": [
    "def verbing(s):\n",
    "    \"\"\"\n",
    "    Given a string, if its length is at least 3, add 'ing' to its end.\n",
    "    Unless it already ends in 'ing', in which case add 'ly' instead.\n",
    "    If the string length is less than 3, leave it unchanged. Return\n",
    "    the resulting string.\n",
    "\n",
    "    >>> verbing('hail')\n",
    "    'hailing'\n",
    "    >>> verbing('swiming')\n",
    "    'swimingly'\n",
    "    >>> verbing('do')\n",
    "    'do'\n",
    "    \"\"\"\n",
    "    if len(s) < 3:\n",
    "        print (s)\n",
    "    elif s[-3:] == 'ing':\n",
    "        print(s+'ly')\n",
    "    else:\n",
    "        print (s+'ing')\n",
    "\n",
    "verbing('do')"
   ]
  },
  {
   "cell_type": "code",
   "execution_count": null,
   "metadata": {
    "collapsed": false
   },
   "outputs": [],
   "source": [
    "def not_bad(s):\n",
    "    \"\"\"\n",
    "    Given a string, find the first appearance of the substring 'not'\n",
    "    and 'bad'. If the 'bad' follows the 'not', replace the whole\n",
    "    'not'...'bad' substring with 'good'. Return the resulting string.\n",
    "    So 'This dinner is not that bad!' yields: 'This dinner is\n",
    "    good!'\n",
    "\n",
    "    >>> not_bad('This movie is not so bad')\n",
    "    'This movie is good'\n",
    "    >>> not_bad('This dinner is not that bad!')\n",
    "    'This dinner is good!'\n",
    "    >>> not_bad('This tea is not hot')\n",
    "    'This tea is not hot'\n",
    "    >>> not_bad(\"It's bad yet not\")\n",
    "    \"It's bad yet not\"\n",
    "    \"\"\" \n",
    "    return (s.replace(s[s.find('not'):s.find('bad')+3],'good') if s.find('bad') > s.find('not') else s)\n",
    "\n",
    " \n",
    "not_bad('This dinner is not that bad!')"
   ]
  },
  {
   "cell_type": "code",
   "execution_count": null,
   "metadata": {
    "collapsed": false
   },
   "outputs": [],
   "source": [
    "def front_back(a, b):\n",
    "    \"\"\"\n",
    "    Consider dividing a string into two halves. If the length is even,\n",
    "    the front and back halves are the same length. If the length is\n",
    "    odd, we'll say that the extra char goes in the front half. e.g.\n",
    "    'abcde', the front half is 'abc', the back half 'de'. Given 2\n",
    "    strings, a and b, return a string of the form a-front + b-front +\n",
    "    a-back + b-back\n",
    "\n",
    "    >>> front_back('abcd', 'xy')\n",
    "    'abxcdy'\n",
    "    >>> front_back('abcde', 'xyz')\n",
    "    'abcxydez'\n",
    "    >>> front_back('Kitten', 'Donut')\n",
    "    'KitDontenut'\n",
    "    \"\"\"\n",
    "    a_half = int((len(a)/2)+1 if len(a)%2 != 0 else (len(a)/2))\n",
    "    b_half = int((len(b)/2)+1 if len(b)%2 != 0 else (len(b)/2))\n",
    "\n",
    "    print(a[:a_half]+b[:b_half]+ a[a_half:] +b[b_half:])\n",
    "\n",
    "\n",
    "\n",
    "front_back('Kitten','Donut')"
   ]
  },
  {
   "cell_type": "code",
   "execution_count": null,
   "metadata": {
    "collapsed": false
   },
   "outputs": [],
   "source": [
    "def match_ends(words):\n",
    "    \"\"\"\n",
    "    Given a list of strings, return the count of the number of strings\n",
    "    where the string length is 2 or more and the first and last chars\n",
    "    of the string are the same.\n",
    "\n",
    "    >>> match_ends(['aba', 'xyz', 'aa', 'x', 'bbb'])\n",
    "    3\n",
    "    >>> match_ends(['', 'x', 'xy', 'xyx', 'xx'])\n",
    "    2\n",
    "    >>> match_ends(['aaa', 'be', 'abc', 'hello'])\n",
    "    1\n",
    "    \"\"\"\n",
    "\n",
    "    remove_short_words = list(filter(lambda word: len(word) >= 2,words))\n",
    "    remove_excess_words =  list((filter(lambda word: (word[0] == word[-1]), remove_short_words)))\n",
    "\n",
    "    print(len(remove_excess_words))\n",
    "    \n",
    "match_ends(['aaa', 'be', 'abc', 'hello'])\n",
    "    "
   ]
  },
  {
   "cell_type": "code",
   "execution_count": null,
   "metadata": {
    "collapsed": false
   },
   "outputs": [],
   "source": [
    "import re\n",
    "\n",
    "def front_x(words):\n",
    "    \"\"\"\n",
    "    Given a list of strings, return a list with the strings in sorted\n",
    "    order, except group all the strings that begin with 'x' first.\n",
    "    e.g. ['mix', 'xyz', 'apple', 'xanadu', 'aardvark'] yields\n",
    "         ['xanadu', 'xyz', 'aardvark', 'apple', 'mix'].\n",
    "\n",
    "    >>> front_x(['bbb', 'ccc', 'axx', 'xzz', 'xaa'])\n",
    "    ['xaa', 'xzz', 'axx', 'bbb', 'ccc']\n",
    "    >>> front_x(['ccc', 'bbb', 'aaa', 'xcc', 'xaa'])\n",
    "    ['xaa', 'xcc', 'aaa', 'bbb', 'ccc']\n",
    "    >>> front_x(['mix', 'xyz', 'apple', 'xanadu', 'aardvark'])\n",
    "    ['xanadu', 'xyz', 'aardvark', 'apple', 'mix']\n",
    "    \"\"\"\n",
    "    \n",
    "    return([word for word in sorted(words) if word[0] == 'x'] + [word for word in sorted(words) if word[0] != 'x'])\n",
    " \n",
    "    \n",
    "front_x(['bbb', 'ccc', 'axx', 'xzz', 'xaa'])"
   ]
  },
  {
   "cell_type": "code",
   "execution_count": null,
   "metadata": {
    "collapsed": false
   },
   "outputs": [],
   "source": [
    "def sort_last(tuples):\n",
    "    \"\"\"\n",
    "    Given a list of non-empty tuples, return a list sorted in\n",
    "    increasing order by the last element in each tuple.\n",
    "    e.g. [(1, 7), (1, 3), (3, 4, 5), (2, 2)] yields\n",
    "         [(2, 2), (1, 3), (3, 4, 5), (1, 7)].\n",
    "\n",
    "    >>> sort_last([(1, 3), (3, 2), (2, 1)])\n",
    "    [(2, 1), (3, 2), (1, 3)]\n",
    "    >>> sort_last([(2, 3), (1, 2), (3, 1)])\n",
    "    [(3, 1), (1, 2), (2, 3)]\n",
    "    >>> sort_last([(1, 7), (1, 3), (3, 4, 5), (2, 2)])\n",
    "    [(2, 2), (1, 3), (3, 4, 5), (1, 7)]\n",
    "    \"\"\"\n",
    "    print (sorted(tuples, key=lambda x:x[-1]))\n",
    "    \n",
    "sort_last([(1, 7), (1, 3), (3, 4, 5), (2, 2)])\n",
    "\n"
   ]
  },
  {
   "cell_type": "code",
   "execution_count": null,
   "metadata": {
    "collapsed": false
   },
   "outputs": [],
   "source": [
    "def remove_adjacent(nums):\n",
    "    \"\"\"\n",
    "    Given a list of numbers, return a list where all adjacent equal\n",
    "    elements have been reduced to a single element, so [1, 2, 2, 3]\n",
    "    returns [1, 2, 3]. You may create a new list or modify the passed\n",
    "    in list.\n",
    "\n",
    "    >>> remove_adjacent([1, 2, 2, 3])\n",
    "    [1, 2, 3]\n",
    "    >>> remove_adjacent([2, 2, 3, 3, 3])\n",
    "    [2, 3]\n",
    "    >>> remove_adjacent([3, 2, 3, 3, 3])\n",
    "    [3, 2, 3]\n",
    "    >>> remove_adjacent([])\n",
    "    []\n",
    "    \"\"\"\n",
    "#     try:\n",
    "#         index = 0\n",
    "#         for num in nums:\n",
    "#             if nums[index] == nums[index+1]:\n",
    "#                 nums.pop(index+1)\n",
    "#                 continue\n",
    "#             index+=1\n",
    "#     except IndexError:\n",
    "#         pass\n",
    "    \n",
    "#     print(nums)\n",
    "    \n",
    "    index = 0\n",
    "    while index < len(nums)-1:\n",
    "        if nums[index] == nums[index+1]:\n",
    "            nums.pop(index)\n",
    "            continue\n",
    "        index += 1\n",
    "    print(nums)\n",
    "    \n",
    "remove_adjacent([3, 2, 3, 3, 3])"
   ]
  },
  {
   "cell_type": "code",
   "execution_count": null,
   "metadata": {
    "collapsed": false
   },
   "outputs": [],
   "source": [
    "def linear_merge(list1, list2):\n",
    "    \"\"\"\n",
    "    Given two lists sorted in increasing order, create and return a\n",
    "    merged list of all the elements in sorted order. You may modify\n",
    "    the passed in lists. Ideally, the solution should work in \"linear\"\n",
    "    time, making a single pass of both lists.\n",
    "\n",
    "    >>> linear_merge(['aa', 'xx', 'zz'], ['bb', 'cc'])\n",
    "    ['aa', 'bb', 'cc', 'xx', 'zz']\n",
    "    >>> linear_merge(['aa', 'xx'], ['bb', 'cc', 'zz'])\n",
    "    ['aa', 'bb', 'cc', 'xx', 'zz']\n",
    "    >>> linear_merge(['aa', 'aa'], ['aa', 'bb', 'bb'])\n",
    "    ['aa', 'aa', 'aa', 'bb', 'bb']\n",
    "    \"\"\"\n",
    "    return sorted(list1 + list2)\n",
    "\n",
    "linear_merge(['aa', 'aa'], ['aa', 'bb', 'bb'])"
   ]
  },
  {
   "cell_type": "code",
   "execution_count": null,
   "metadata": {
    "collapsed": false
   },
   "outputs": [],
   "source": [
    "from datetime import date\n",
    "\n",
    "date_start = '01-02-2013'\n",
    "date_stop = '07-28-2015'\n",
    "\n",
    "start = datetime.strptime(date_start, \"%m-%d-%Y\")\n",
    "stop = datetime.strptime(date_stop, \"%m-%d-%Y\")\n",
    "\n",
    "print (stop-start)"
   ]
  },
  {
   "cell_type": "code",
   "execution_count": null,
   "metadata": {
    "collapsed": true
   },
   "outputs": [],
   "source": []
  }
 ],
 "metadata": {
  "kernelspec": {
   "display_name": "Python 3",
   "language": "python",
   "name": "python3"
  },
  "language_info": {
   "codemirror_mode": {
    "name": "ipython",
    "version": 3
   },
   "file_extension": ".py",
   "mimetype": "text/x-python",
   "name": "python",
   "nbconvert_exporter": "python",
   "pygments_lexer": "ipython3",
   "version": "3.5.1"
  }
 },
 "nbformat": 4,
 "nbformat_minor": 0
}
