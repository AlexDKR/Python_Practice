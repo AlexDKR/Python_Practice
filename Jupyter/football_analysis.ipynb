{
 "cells": [
  {
   "cell_type": "code",
   "execution_count": 63,
   "metadata": {
    "collapsed": false
   },
   "outputs": [
    {
     "name": "stdout",
     "output_type": "stream",
     "text": [
      "          Team  Goal Difference\n",
      "7  Aston_Villa                1\n"
     ]
    }
   ],
   "source": [
    "import pandas as pd\n",
    "\n",
    "#Reading the data into a dataframe\n",
    "football_data = pd.read_csv('football.csv')\n",
    "\n",
    "#Adding a column to dataframe to find the difference\n",
    "football_data['Goal Difference'] = abs(football_data['Goals'] - football_data['Goals Allowed'])\n",
    "\n",
    "#Determining which team has the lowest in goal difference\n",
    "print (football_data[['Team','Goal Difference']][football_data['Goal Difference'] == football_data['Goal Difference'].min()])"
   ]
  },
  {
   "cell_type": "code",
   "execution_count": null,
   "metadata": {
    "collapsed": true
   },
   "outputs": [],
   "source": []
  }
 ],
 "metadata": {
  "kernelspec": {
   "display_name": "Python 3",
   "language": "python",
   "name": "python3"
  },
  "language_info": {
   "codemirror_mode": {
    "name": "ipython",
    "version": 3
   },
   "file_extension": ".py",
   "mimetype": "text/x-python",
   "name": "python",
   "nbconvert_exporter": "python",
   "pygments_lexer": "ipython3",
   "version": "3.5.1"
  }
 },
 "nbformat": 4,
 "nbformat_minor": 0
}
